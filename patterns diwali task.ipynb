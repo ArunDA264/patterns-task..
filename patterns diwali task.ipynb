{
 "cells": [
  {
   "cell_type": "markdown",
   "id": "8caef119",
   "metadata": {},
   "source": [
    "### pattern "
   ]
  },
  {
   "cell_type": "code",
   "execution_count": 2,
   "id": "ebd9d697",
   "metadata": {},
   "outputs": [
    {
     "name": "stdout",
     "output_type": "stream",
     "text": [
      "enter size value : 3\n",
      "   \n",
      "  2\n",
      " 12\n",
      "012\n",
      " 12\n",
      "  2\n",
      "   \n"
     ]
    }
   ],
   "source": [
    "size = int(input('enter size value : '))\n",
    "def pattern1():\n",
    "    '''size = int(input('enter size value : ')): This line takes user input and converts it to an integer, storing it in the variable size. The user is prompted to enter a size value.\n",
    "\n",
    "def pattern1():: This line defines a function named pattern1. Functions in Python are defined using the def keyword.\n",
    "\n",
    "for x in range(size, -(size + 1), -1):: This outer loop iterates over a range of values for x, starting from size and going down to -(size + 1) with a step of -1. This loop controls the number of rows in the pattern.\n",
    "\n",
    "for y in range(abs(x), 0, -1):: This inner loop iterates over a range of values for y, starting from the absolute value of x and going down to 1 with a step of -1. This loop is responsible for printing spaces before the numbers in each row.\n",
    "\n",
    "for z in range(abs(x), size):: This inner loop iterates over a range of values for z, starting from the absolute value of x and going up to size. This loop is responsible for printing the numbers in each row.\n",
    "\n",
    "print(\" \", end=\" \"): This line prints a space without moving to the next line.\n",
    "\n",
    "print(z, end=\" \"): This line prints the value of z without moving to the next line.\n",
    "\n",
    "print(): This line prints a newline character, moving to the next line after each row of the pattern.\n",
    "\n",
    "Finally, the pattern1() function is called, which executes the pattern printing.\n",
    "    \n",
    "    '''\n",
    "    for x in range(size, -(size + 1), -1):\n",
    "        for y in range(abs(x), 0, -1):\n",
    "            print(\" \", end=\" \")\n",
    "        for z in range(abs(x), size):\n",
    "            print(z, end=\" \")\n",
    "        print()\n",
    "pattern1()"
   ]
  },
  {
   "cell_type": "code",
   "execution_count": 4,
   "id": "20cfc049",
   "metadata": {},
   "outputs": [
    {
     "name": "stdout",
     "output_type": "stream",
     "text": [
      "enter size value : 4\n",
      "        \n",
      "      D \n",
      "    C D \n",
      "  B C D \n",
      "A B C D \n",
      "  B C D \n",
      "    C D \n",
      "      D \n",
      "        \n"
     ]
    }
   ],
   "source": [
    "size = int(input('enter size value : '))\n",
    "def pattern2():\n",
    "    '''\n",
    "    size = int(input('enter size value : ')): This line takes user input and converts it to an integer, storing it in the variable size. The user is prompted to enter a size value.\n",
    "\n",
    "def pattern2():: This line defines a function named pattern2. Functions in Python are defined using the def keyword.\n",
    "\n",
    "for x in range(size, -(size + 1), -1):: This outer loop iterates over a range of values for x, starting from size and going down to -(size + 1) with a step of -1. This loop controls the number of rows in the pattern.\n",
    "\n",
    "for y in range(abs(x), 0, -1):: This inner loop iterates over a range of values for y, starting from the absolute value of x and going down to 1 with a step of -1. This loop is responsible for printing spaces before the letters in each row.\n",
    "\n",
    "for z in range(abs(x), size):: This inner loop iterates over a range of values for z, starting from the absolute value of x and going up to size. This loop is responsible for printing the letters in each row.\n",
    "\n",
    "print(chr(z + 65), end=\" \"): This line prints the uppercase letter corresponding to the ASCII value z + 65. chr() is a built-in function in Python that converts an ASCII value to its corresponding character.\n",
    "\n",
    "print(): This line prints a newline character, moving to the next line after each row of the pattern.\n",
    "\n",
    "Finally, the pattern2() function is called, which executes the pattern printing.\n",
    "    '''\n",
    "    for x in range(size, -(size + 1), -1):\n",
    "        for y in range(abs(x), 0, -1):\n",
    "            print(\" \", end=\" \")\n",
    "        for z in range(abs(x), size):\n",
    "            print(chr(z + 65), end=\" \")\n",
    "        print()\n",
    "pattern2()"
   ]
  },
  {
   "cell_type": "code",
   "execution_count": 6,
   "id": "04c7ce6e",
   "metadata": {},
   "outputs": [
    {
     "name": "stdout",
     "output_type": "stream",
     "text": [
      "enter size value : 4\n",
      "        E \n",
      "      E D \n",
      "    E D C \n",
      "  E D C B \n",
      "E D C B A \n",
      "  E D C B \n",
      "    E D C \n",
      "      E D \n",
      "        E \n"
     ]
    }
   ],
   "source": [
    "size = int(input('enter size value : '))\n",
    "def pattern3():\n",
    "    '''size = int(input('enter size value : ')): This line takes user input and converts it to an integer, storing it in the variable size. The user is prompted to enter a size value.\n",
    "\n",
    "def pattern3():: This line defines a function named pattern3. Functions in Python are defined using the def keyword.\n",
    "\n",
    "for x in range(size, -(size + 1), -1):: This outer loop iterates over a range of values for x, starting from size and going down to -(size + 1) with a step of -1. This loop controls the number of rows in the pattern.\n",
    "\n",
    "for y in range(abs(x), 0, -1):: This inner loop iterates over a range of values for y, starting from the absolute value of x and going down to 1 with a step of -1. This loop is responsible for printing spaces before the letters in each row.\n",
    "\n",
    "for z in range(size, abs(x) - 1, -1):: This inner loop iterates over a range of values for z, starting from size and going down to abs(x) - 1. This loop is responsible for printing the letters in each row in reverse order.\n",
    "\n",
    "print(chr(z + 65), end=\" \"): This line prints the uppercase letter corresponding to the ASCII value z + 65. chr() is a built-in function in Python that converts an ASCII value to its corresponding character.\n",
    "\n",
    "print(): This line prints a newline character, moving to the next line after each row of the pattern.\n",
    "\n",
    "Finally, the pattern3() function is called, which executes the pattern printing.'''\n",
    "    \n",
    "    for x in range(size, -(size + 1), -1):\n",
    "        for y in range(abs(x), 0, -1):\n",
    "            print(\" \", end=\" \")\n",
    "        for z in range(size, abs(x) - 1, -1):\n",
    "            print(chr(z + 65), end=\" \")\n",
    "        print()\n",
    "pattern3()"
   ]
  },
  {
   "cell_type": "code",
   "execution_count": 10,
   "id": "a86072d4",
   "metadata": {},
   "outputs": [
    {
     "name": "stdout",
     "output_type": "stream",
     "text": [
      "enter the row value : 5\n",
      "    * \n",
      "   * * \n",
      "  * * * \n",
      " * * * * \n"
     ]
    }
   ],
   "source": [
    "row = int(input('enter the row value : '))\n",
    "def pattern4():\n",
    "    '''row = int(input('enter the row value : ')): This line takes user input and converts it to an integer, storing it in the variable row. The user is prompted to enter a row value.\n",
    "\n",
    "def pattern4():: This line defines a function named pattern4. Functions in Python are defined using the def keyword.\n",
    "\n",
    "for x in range(1, row):: This outer loop iterates over a range of values for x, starting from 1 and going up to row - 1. This loop controls the number of rows in the pattern.\n",
    "\n",
    "for y in range(row, x, -1):: This inner loop iterates over a range of values for y, starting from row and going down to x + 1 with a step of -1. This loop is responsible for printing spaces before the asterisks in each row.\n",
    "\n",
    "for z in range(0, x):: This inner loop iterates over a range of values for z, starting from 0 and going up to x - 1. This loop is responsible for printing the asterisks in each row.\n",
    "\n",
    "print(\" \", end=\"\"): This line prints a space without moving to the next line.\n",
    "\n",
    "print(\"* \", end=\"\"): This line prints an asterisk followed by a space without moving to the next line.\n",
    "\n",
    "print(): This line prints a newline character, moving to the next line after each row of the pattern.\n",
    "\n",
    "Finally, the pattern4() function is called, which executes the pattern printing.'''\n",
    "    for x in range(1, row):\n",
    "        for y in range(row, x, -1):\n",
    "            print(\" \", end=\"\")\n",
    "        for z in range(0,x):\n",
    "            print(\"* \", end=\"\")\n",
    "        print()\n",
    "pattern4()"
   ]
  },
  {
   "cell_type": "code",
   "execution_count": 13,
   "id": "04d3ab96",
   "metadata": {},
   "outputs": [
    {
     "name": "stdout",
     "output_type": "stream",
     "text": [
      "enter row value : 5\n",
      "    1 \n",
      "   2 2 \n",
      "  3 3 3 \n",
      " 4 4 4 4 \n"
     ]
    }
   ],
   "source": [
    "row = int(input('enter row value : '))\n",
    "def pattern5():\n",
    "    '''row = int(input('enter row value : ')): This line takes user input and converts it to an integer, storing it in the variable row. The user is prompted to enter a row value.\n",
    "\n",
    "def pattern5():: This line defines a function named pattern5. Functions in Python are defined using the def keyword.\n",
    "\n",
    "for x in range(1, row):: This outer loop iterates over a range of values for x, starting from 1 and going up to row - 1. This loop controls the number of rows in the pattern.\n",
    "\n",
    "for y in range(row, x, -1):: This inner loop iterates over a range of values for y, starting from row and going down to x + 1 with a step of -1. This loop is responsible for printing spaces before the numbers in each row.\n",
    "\n",
    "for z in range(0, x):: This inner loop iterates over a range of values for z, starting from 0 and going up to x - 1. This loop is responsible for printing the numbers in each row. The numbers are repeated, and str(x) + \" \" is used to convert the number to a string and add a space after it.\n",
    "\n",
    "print(\" \", end=\"\"): This line prints a space without moving to the next line.\n",
    "\n",
    "print(str(x) + \" \", end=\"\"): This line prints the current value of x as a string followed by a space, without moving to the next line.\n",
    "\n",
    "print(): This line prints a newline character, moving to the next line after each row of the pattern.\n",
    "\n",
    "Finally, the pattern5() function is called, which executes the pattern printing.'''\n",
    "    for x in range(1, row):\n",
    "        for y in range(row, x, -1):\n",
    "            print(\" \", end=\"\")\n",
    "        for z in range(0, x):\n",
    "            print(str(x) + \" \", end=\"\")\n",
    "        print()\n",
    "pattern5()"
   ]
  },
  {
   "cell_type": "code",
   "execution_count": 14,
   "id": "91746956",
   "metadata": {},
   "outputs": [
    {
     "name": "stdout",
     "output_type": "stream",
     "text": [
      "enter row value : 5\n",
      "    1 \n",
      "   1 2 \n",
      "  1 2 3 \n",
      " 1 2 3 4 \n"
     ]
    }
   ],
   "source": [
    "row = int(input('enter row value : '))\n",
    "def pattern6():\n",
    "    '''row = int(input('enter row value : ')): This line takes user input and converts it to an integer, storing it in the variable row. The user is prompted to enter a row value.\n",
    "\n",
    "def pattern6():: This line defines a function named pattern6. Functions in Python are defined using the def keyword.\n",
    "\n",
    "for x in range(1, row):: This outer loop iterates over a range of values for x, starting from 1 and going up to row - 1. This loop controls the number of rows in the pattern.\n",
    "\n",
    "for y in range(row, x, -1):: This inner loop iterates over a range of values for y, starting from row and going down to x + 1 with a step of -1. This loop is responsible for printing spaces before the numbers in each row.\n",
    "\n",
    "for z in range(1, x + 1):: This inner loop iterates over a range of values for z, starting from 1 and going up to x. This loop is responsible for printing the numbers in each row. The numbers are repeated, and str(z) + \" \" is used to convert the number to a string and add a space after it.\n",
    "\n",
    "print(\" \", end=\"\"): This line prints a space without moving to the next line.\n",
    "\n",
    "print(str(z) + \" \", end=\"\"): This line prints the current value of z as a string followed by a space, without moving to the next line.\n",
    "\n",
    "print(): This line prints a newline character, moving to the next line after each row of the pattern.\n",
    "\n",
    "Finally, the pattern6() function is called, which executes the pattern printing.'''\n",
    "    for x in range(1, row):\n",
    "        for y in range(row, x, -1):\n",
    "            print(\" \", end=\"\")\n",
    "        for z in range(1, x + 1):\n",
    "            print(str(z) + \" \", end=\"\")\n",
    "        print()\n",
    "pattern6()"
   ]
  },
  {
   "cell_type": "code",
   "execution_count": 16,
   "id": "57220de7",
   "metadata": {},
   "outputs": [
    {
     "name": "stdout",
     "output_type": "stream",
     "text": [
      "enter row value : 6\n",
      "     A \n",
      "    B B \n",
      "   C C C \n",
      "  D D D D \n",
      " E E E E E \n"
     ]
    }
   ],
   "source": [
    "row = int(input('enter row value : '))\n",
    "def pattern7():\n",
    "    '''row = int(input('enter row value : ')): This line takes user input and converts it to an integer, storing it in the variable row. The user is prompted to enter a row value.\n",
    "\n",
    "def pattern7():: This line defines a function named pattern7. Functions in Python are defined using the def keyword.\n",
    "\n",
    "for x in range(1, row):: This outer loop iterates over a range of values for x, starting from 1 and going up to row - 1. This loop controls the number of rows in the pattern.\n",
    "\n",
    "for y in range(row, x, -1):: This inner loop iterates over a range of values for y, starting from row and going down to x + 1 with a step of -1. This loop is responsible for printing spaces before the letters in each row.\n",
    "\n",
    "for z in range(0, x):: This inner loop iterates over a range of values for z, starting from 0 and going up to x - 1. This loop is responsible for printing the letters in each row. The chr(x + 64) expression converts the numeric value x to the corresponding uppercase letter using ASCII values.\n",
    "\n",
    "print(\" \", end=\"\"): This line prints a space without moving to the next line.\n",
    "\n",
    "print(chr(x + 64) + \" \", end=\"\"): This line prints the current uppercase letter corresponding to the ASCII value x + 64, followed by a space, without moving to the next line.\n",
    "\n",
    "print(): This line prints a newline character, moving to the next line after each row of the pattern.\n",
    "\n",
    "Finally, the pattern7() function is called, which executes the pattern printing.'''\n",
    "    for x in range(1, row):\n",
    "        for y in range(row, x, -1):\n",
    "            print(\" \", end=\"\")\n",
    "        for z in range(0, x):\n",
    "            print(chr(x + 64) + \" \", end=\"\")\n",
    "        print()\n",
    "pattern7()"
   ]
  },
  {
   "cell_type": "code",
   "execution_count": 17,
   "id": "efe7dbad",
   "metadata": {},
   "outputs": [
    {
     "name": "stdout",
     "output_type": "stream",
     "text": [
      "enter row value : 6\n",
      "     A \n",
      "    A B \n",
      "   A B C \n",
      "  A B C D \n",
      " A B C D E \n"
     ]
    }
   ],
   "source": [
    "row = int(input('enter row value : '))\n",
    "def pattern8():\n",
    "    '''row = int(input('enter row value : ')): This line takes user input and converts it to an integer, storing it in the variable row. The user is prompted to enter a row value.\n",
    "\n",
    "def pattern8():: This line defines a function named pattern8. Functions in Python are defined using the def keyword.\n",
    "\n",
    "for x in range(1, row):: This outer loop iterates over a range of values for x, starting from 1 and going up to row - 1. This loop controls the number of rows in the pattern.\n",
    "\n",
    "for y in range(row, x, -1):: This inner loop iterates over a range of values for y, starting from row and going down to x + 1 with a step of -1. This loop is responsible for printing spaces before the letters in each row.\n",
    "\n",
    "for z in range(1, x + 1):: This inner loop iterates over a range of values for z, starting from 1 and going up to x. This loop is responsible for printing the letters in each row. The chr(z + 64) expression converts the numeric value z to the corresponding uppercase letter using ASCII values.\n",
    "\n",
    "print(\" \", end=\"\"): This line prints a space without moving to the next line.\n",
    "\n",
    "print(chr(z + 64) + \" \", end=\"\"): This line prints the current uppercase letter corresponding to the ASCII value z + 64, followed by a space, without moving to the next line.\n",
    "\n",
    "print(): This line prints a newline character, moving to the next line after each row of the pattern.\n",
    "\n",
    "Finally, the pattern8() function is called, which executes the pattern printing'''\n",
    "    for x in range(1, row):\n",
    "        for y in range(row, x, -1):\n",
    "            print(\" \", end=\"\")\n",
    "        for z in range(1, x + 1):\n",
    "            print(chr(z + 64) + \" \", end=\"\")\n",
    "        print()\n",
    "pattern8()"
   ]
  },
  {
   "cell_type": "code",
   "execution_count": 23,
   "id": "697ba876",
   "metadata": {},
   "outputs": [
    {
     "name": "stdout",
     "output_type": "stream",
     "text": [
      "enter row value : 6\n",
      "* * * * * * \n",
      " * * * * * \n",
      "  * * * * \n",
      "   * * * \n",
      "    * * \n",
      "     * \n"
     ]
    }
   ],
   "source": [
    "row = int(input('enter row value : '))\n",
    "def pattern9():\n",
    "    '''row = int(input('enter row value : ')): This line takes user input and converts it to an integer, storing it in the variable row. The user is prompted to enter a row value.\n",
    "\n",
    "def pattern9():: This line defines a function named pattern9. Functions in Python are defined using the def keyword.\n",
    "\n",
    "for x in range(row, 0, -1):: This outer loop iterates over a range of values for x, starting from row and going down to 1 with a step of -1. This loop controls the number of rows in the pattern.\n",
    "\n",
    "for y in range(x, row):: This inner loop iterates over a range of values for y, starting from x and going up to row - 1. This loop is responsible for printing spaces before the asterisks in each row.\n",
    "\n",
    "for z in range(0, x):: This inner loop iterates over a range of values for z, starting from 0 and going up to x - 1. This loop is responsible for printing the asterisks in each row.\n",
    "\n",
    "print(\" \", end=\"\"): This line prints a space without moving to the next line.\n",
    "\n",
    "print(\"* \", end=\"\"): This line prints an asterisk followed by a space, without moving to the next line.\n",
    "\n",
    "print(): This line prints a newline character, moving to the next line after each row of the pattern.\n",
    "\n",
    "Finally, the pattern9() function is called, which executes the pattern printing'''\n",
    "    for x in range(row, 0, -1):\n",
    "        for y in range(x, row):\n",
    "            print(\" \", end=\"\")\n",
    "        for z in range(0, x):\n",
    "            print(\"* \", end=\"\")\n",
    "        print()\n",
    "pattern9()   "
   ]
  },
  {
   "cell_type": "code",
   "execution_count": 22,
   "id": "2fb08029",
   "metadata": {},
   "outputs": [
    {
     "name": "stdout",
     "output_type": "stream",
     "text": [
      "enter row value : 6\n",
      "6 6 6 6 6 6 \n",
      " 5 5 5 5 5 \n",
      "  4 4 4 4 \n",
      "   3 3 3 \n",
      "    2 2 \n",
      "     1 \n"
     ]
    }
   ],
   "source": [
    "row = int(input('enter row value : '))\n",
    "def pattern10():\n",
    "    '''row = int(input('enter row value : ')): This line takes user input and converts it to an integer, storing it in the variable row. The user is prompted to enter a row value.\n",
    "\n",
    "def pattern10():: This line defines a function named pattern10. Functions in Python are defined using the def keyword.\n",
    "\n",
    "for x in range(row, 0, -1):: This outer loop iterates over a range of values for x, starting from row and going down to 1 with a step of -1. This loop controls the number of rows in the pattern.\n",
    "\n",
    "for y in range(x, row):: This inner loop iterates over a range of values for y, starting from x and going up to row - 1. This loop is responsible for printing spaces before the numbers in each row.\n",
    "\n",
    "for z in range(0, x):: This inner loop iterates over a range of values for z, starting from 0 and going up to x - 1. This loop is responsible for printing the repeated numbers in each row. The numbers are repeated, and str(x) + \" \" is used to convert the number to a string and add a space after it.\n",
    "\n",
    "print(\" \", end=\"\"): This line prints a space without moving to the next line.\n",
    "\n",
    "print(str(x) + \" \", end=\"\"): This line prints the current value of x as a string followed by a space, without moving to the next line.\n",
    "\n",
    "print(): This line prints a newline character, moving to the next line after each row of the pattern.\n",
    "\n",
    "Finally, the pattern10() function is called, which executes the pattern printing.'''\n",
    "    for x in range(row, 0, -1):\n",
    "        for y in range(x, row):\n",
    "            print(\" \", end=\"\")\n",
    "        for z in range(0, x):\n",
    "            print(str(x) + \" \", end=\"\")\n",
    "        print()\n",
    "pattern10()"
   ]
  },
  {
   "cell_type": "code",
   "execution_count": null,
   "id": "8ae20900",
   "metadata": {},
   "outputs": [],
   "source": []
  }
 ],
 "metadata": {
  "kernelspec": {
   "display_name": "Python 3 (ipykernel)",
   "language": "python",
   "name": "python3"
  },
  "language_info": {
   "codemirror_mode": {
    "name": "ipython",
    "version": 3
   },
   "file_extension": ".py",
   "mimetype": "text/x-python",
   "name": "python",
   "nbconvert_exporter": "python",
   "pygments_lexer": "ipython3",
   "version": "3.11.5"
  }
 },
 "nbformat": 4,
 "nbformat_minor": 5
}
